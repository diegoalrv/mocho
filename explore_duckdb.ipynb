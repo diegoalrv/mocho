{
 "cells": [
  {
   "cell_type": "code",
   "execution_count": 2,
   "id": "f8d66e32",
   "metadata": {},
   "outputs": [],
   "source": [
    "import pandas as pd\n",
    "import numpy as np\n",
    "import matplotlib.pyplot as plt\n",
    "import seaborn as sns\n",
    "import geopandas as gpd\n",
    "import duckdb"
   ]
  },
  {
   "cell_type": "code",
   "execution_count": 3,
   "id": "63c30c30",
   "metadata": {},
   "outputs": [
    {
     "name": "stdout",
     "output_type": "stream",
     "text": [
      "Available tables in DuckDB:\n",
      " - diccionario\n",
      " - estrato\n",
      " - factorexp_hogar\n",
      " - factorexp_persona\n",
      " - histograma15\n",
      " - hogar\n",
      " - ingresohogar\n",
      " - ingresomod_persona\n",
      " - macrozona\n",
      " - modoagregado\n",
      " - modoinforme\n",
      " - periodo\n",
      " - persona\n",
      " - proposito\n",
      " - rangotmh\n",
      " - tipo_asiento\n",
      " - tramoingreso\n",
      " - viajes_fds\n",
      " - viajes_lab\n",
      " - xauto_chofer\n",
      " - xhijos\n",
      " - xhogar_nviaje\n",
      " - xingresopersona\n",
      " - xtiempomedio\n",
      " - xviajes_adulto\n",
      " - xviajes_infantes\n",
      " - zona\n"
     ]
    }
   ],
   "source": [
    "# Make connection to DuckDB and list available tables\n",
    "duckdb_path = './data/eod.duckdb'\n",
    "con = duckdb.connect(database=duckdb_path)\n",
    "\n",
    "# List available tables\n",
    "tables = con.execute(\"SHOW TABLES\").fetchall()\n",
    "print(\"Available tables in DuckDB:\")\n",
    "for table in tables:\n",
    "    print(f\" - {table[0]}\")"
   ]
  },
  {
   "cell_type": "code",
   "execution_count": null,
   "id": "daf4b2be",
   "metadata": {},
   "outputs": [],
   "source": []
  }
 ],
 "metadata": {
  "kernelspec": {
   "display_name": ".venv",
   "language": "python",
   "name": "python3"
  },
  "language_info": {
   "codemirror_mode": {
    "name": "ipython",
    "version": 3
   },
   "file_extension": ".py",
   "mimetype": "text/x-python",
   "name": "python",
   "nbconvert_exporter": "python",
   "pygments_lexer": "ipython3",
   "version": "3.13.1"
  }
 },
 "nbformat": 4,
 "nbformat_minor": 5
}
