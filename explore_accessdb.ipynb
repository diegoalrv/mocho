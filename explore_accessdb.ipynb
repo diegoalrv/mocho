{
 "cells": [
  {
   "cell_type": "code",
   "execution_count": 1,
   "id": "d03a5328",
   "metadata": {},
   "outputs": [
    {
     "name": "stdout",
     "output_type": "stream",
     "text": [
      "['SQL Server', 'Microsoft Access Driver (*.mdb, *.accdb)', 'Microsoft Excel Driver (*.xls, *.xlsx, *.xlsm, *.xlsb)', 'Microsoft Access Text Driver (*.txt, *.csv)', 'Microsoft Access dBASE Driver (*.dbf, *.ndx, *.mdx)']\n"
     ]
    }
   ],
   "source": [
    "import pyodbc\n",
    "print(pyodbc.drivers())"
   ]
  },
  {
   "cell_type": "code",
   "execution_count": 2,
   "id": "68869611",
   "metadata": {},
   "outputs": [
    {
     "name": "stdout",
     "output_type": "stream",
     "text": [
      "Tablas encontradas: ['Diccionario', 'Estrato', 'FactorExp_Hogar', 'FactorExp_Persona', 'Histograma15', 'HOGAR', 'IngresoHogar', 'IngresoMod_Persona', 'Macrozona', 'ModoAgregado', 'ModoInforme', 'Periodo', 'PERSONA', 'Proposito', 'RangoTMH', 'Tipo Asiento', 'TramoIngreso', 'VIAJES_FDS', 'VIAJES_LAB', 'XAuto_Chofer', 'XHijos', 'XHogar_NViaje', 'XIngresoPersona', 'XtiempoMedio', 'XViajes_Adulto', 'XViajes_Infantes', 'Zona']\n"
     ]
    }
   ],
   "source": [
    "import pyodbc\n",
    "\n",
    "# Ruta al archivo .accdb o .mdb\n",
    "db_file = './data/07CLBB_EOD_del_GRAN_CCP.accdb'\n",
    "\n",
    "# Conexión con driver Access (ajusta si es .mdb)\n",
    "conn_str = (\n",
    "    r'Driver={Microsoft Access Driver (*.mdb, *.accdb)};'\n",
    "    rf'DBQ={db_file};'\n",
    ")\n",
    "\n",
    "conn = pyodbc.connect(conn_str)\n",
    "cursor = conn.cursor()\n",
    "\n",
    "# Listar tablas\n",
    "tables = []\n",
    "for row in cursor.tables(tableType='TABLE'):\n",
    "    tables.append(row.table_name)\n",
    "\n",
    "print(\"Tablas encontradas:\", tables)\n",
    "\n",
    "conn.close()\n"
   ]
  },
  {
   "cell_type": "code",
   "execution_count": 3,
   "id": "2eab0158",
   "metadata": {},
   "outputs": [
    {
     "name": "stderr",
     "output_type": "stream",
     "text": [
      "C:\\Users\\Asus\\AppData\\Local\\Temp\\ipykernel_20536\\306208433.py:7: UserWarning: pandas only supports SQLAlchemy connectable (engine/connection) or database string URI or sqlite3 DBAPI2 connection. Other DBAPI2 objects are not tested. Please consider using SQLAlchemy.\n",
      "  df = pd.read_sql(f\"SELECT * FROM [{table_name}]\", conn)\n"
     ]
    },
    {
     "data": {
      "application/vnd.microsoft.datawrangler.viewer.v0+json": {
       "columns": [
        {
         "name": "index",
         "rawType": "int64",
         "type": "integer"
        },
        {
         "name": "Id",
         "rawType": "int64",
         "type": "integer"
        },
        {
         "name": "Campo1",
         "rawType": "object",
         "type": "unknown"
        },
        {
         "name": "Campo2",
         "rawType": "object",
         "type": "unknown"
        },
        {
         "name": "Campo3",
         "rawType": "object",
         "type": "unknown"
        }
       ],
       "ref": "9e5bf453-2389-40ad-9522-a4cd1ed1b721",
       "rows": [
        [
         "0",
         "1",
         "Modo Agregado",
         null,
         null
        ],
        [
         "1",
         "2",
         "1.Caminata",
         null,
         null
        ],
        [
         "2",
         "3",
         "2.No Caminata",
         null,
         null
        ],
        [
         "3",
         "4",
         "3.Transporte Privado",
         null,
         null
        ],
        [
         "4",
         "5",
         "4.Transporte Público",
         null,
         null
        ],
        [
         "5",
         "6",
         "5.Transporte Combinado",
         null,
         null
        ],
        [
         "6",
         "7",
         null,
         null,
         null
        ],
        [
         "7",
         "8",
         "Modo Etapa",
         null,
         null
        ],
        [
         "8",
         "9",
         "1. Auto",
         null,
         null
        ],
        [
         "9",
         "10",
         "2. Motocicleta",
         null,
         null
        ],
        [
         "10",
         "11",
         "3. Bicicleta",
         null,
         null
        ],
        [
         "11",
         "12",
         "4. Bus",
         null,
         null
        ],
        [
         "12",
         "13",
         "5. Bus institucional",
         null,
         null
        ],
        [
         "13",
         "14",
         "6. Bus interurbano o rural",
         null,
         null
        ],
        [
         "14",
         "15",
         "7. Taxi colectivo",
         null,
         null
        ],
        [
         "15",
         "16",
         "8. Taxi o radiotaxi",
         null,
         null
        ],
        [
         "16",
         "17",
         "9. Furgón escolar como pasajero",
         null,
         null
        ],
        [
         "17",
         "18",
         "10. Furgón escolar como chofer o acompañante",
         null,
         null
        ],
        [
         "18",
         "19",
         "11. BioTren",
         null,
         null
        ],
        [
         "19",
         "20",
         "12. Servicio informal",
         null,
         null
        ],
        [
         "20",
         "21",
         "13. Enteramente a pie",
         null,
         null
        ],
        [
         "21",
         "22",
         null,
         null,
         null
        ],
        [
         "22",
         "23",
         "Modo Viaje",
         null,
         null
        ],
        [
         "23",
         "24",
         "1.Caminata",
         null,
         null
        ],
        [
         "24",
         "25",
         "2.Bicicleta",
         null,
         null
        ],
        [
         "25",
         "26",
         "3.T. Privado",
         null,
         null
        ],
        [
         "26",
         "27",
         "4.Taxibús",
         null,
         null
        ],
        [
         "27",
         "28",
         "5.Taxicolectivo",
         null,
         null
        ],
        [
         "28",
         "29",
         "6.Biotrén",
         null,
         null
        ],
        [
         "29",
         "30",
         "7.Otro",
         null,
         null
        ],
        [
         "30",
         "31",
         "8.Combinados Público",
         null,
         null
        ],
        [
         "31",
         "32",
         "9.Otros Combinados",
         null,
         null
        ],
        [
         "32",
         "33",
         "10.Taxi Básico",
         null,
         null
        ],
        [
         "33",
         "34",
         null,
         null,
         null
        ],
        [
         "34",
         "35",
         "Tipo Día",
         null,
         null
        ],
        [
         "35",
         "36",
         "1.Laboral",
         null,
         null
        ],
        [
         "36",
         "37",
         "2.Sábado",
         null,
         null
        ],
        [
         "37",
         "38",
         "3.Domingo",
         null,
         null
        ],
        [
         "38",
         "39",
         null,
         null,
         null
        ],
        [
         "39",
         "40",
         "Sexo",
         null,
         null
        ],
        [
         "40",
         "41",
         "1.Masculino",
         null,
         null
        ],
        [
         "41",
         "42",
         "2.Femenino",
         null,
         null
        ],
        [
         "42",
         "43",
         null,
         null,
         null
        ],
        [
         "43",
         "44",
         "Rango Edad (1-8)",
         null,
         null
        ],
        [
         "44",
         "45",
         "1.(0-5)",
         null,
         null
        ],
        [
         "45",
         "46",
         "2.(6-13)",
         null,
         null
        ],
        [
         "46",
         "47",
         "3.(14-17)",
         null,
         null
        ],
        [
         "47",
         "48",
         "4.(18-24)",
         null,
         null
        ],
        [
         "48",
         "49",
         "5.(25-40)",
         null,
         null
        ],
        [
         "49",
         "50",
         "6.(41-55)",
         null,
         null
        ]
       ],
       "shape": {
        "columns": 4,
        "rows": 423
       }
      },
      "text/html": [
       "<div>\n",
       "<style scoped>\n",
       "    .dataframe tbody tr th:only-of-type {\n",
       "        vertical-align: middle;\n",
       "    }\n",
       "\n",
       "    .dataframe tbody tr th {\n",
       "        vertical-align: top;\n",
       "    }\n",
       "\n",
       "    .dataframe thead th {\n",
       "        text-align: right;\n",
       "    }\n",
       "</style>\n",
       "<table border=\"1\" class=\"dataframe\">\n",
       "  <thead>\n",
       "    <tr style=\"text-align: right;\">\n",
       "      <th></th>\n",
       "      <th>Id</th>\n",
       "      <th>Campo1</th>\n",
       "      <th>Campo2</th>\n",
       "      <th>Campo3</th>\n",
       "    </tr>\n",
       "  </thead>\n",
       "  <tbody>\n",
       "    <tr>\n",
       "      <th>0</th>\n",
       "      <td>1</td>\n",
       "      <td>Modo Agregado</td>\n",
       "      <td>None</td>\n",
       "      <td>None</td>\n",
       "    </tr>\n",
       "    <tr>\n",
       "      <th>1</th>\n",
       "      <td>2</td>\n",
       "      <td>1.Caminata</td>\n",
       "      <td>None</td>\n",
       "      <td>None</td>\n",
       "    </tr>\n",
       "    <tr>\n",
       "      <th>2</th>\n",
       "      <td>3</td>\n",
       "      <td>2.No Caminata</td>\n",
       "      <td>None</td>\n",
       "      <td>None</td>\n",
       "    </tr>\n",
       "    <tr>\n",
       "      <th>3</th>\n",
       "      <td>4</td>\n",
       "      <td>3.Transporte Privado</td>\n",
       "      <td>None</td>\n",
       "      <td>None</td>\n",
       "    </tr>\n",
       "    <tr>\n",
       "      <th>4</th>\n",
       "      <td>5</td>\n",
       "      <td>4.Transporte Público</td>\n",
       "      <td>None</td>\n",
       "      <td>None</td>\n",
       "    </tr>\n",
       "    <tr>\n",
       "      <th>...</th>\n",
       "      <td>...</td>\n",
       "      <td>...</td>\n",
       "      <td>...</td>\n",
       "      <td>...</td>\n",
       "    </tr>\n",
       "    <tr>\n",
       "      <th>418</th>\n",
       "      <td>419</td>\n",
       "      <td>2. No</td>\n",
       "      <td>None</td>\n",
       "      <td>None</td>\n",
       "    </tr>\n",
       "    <tr>\n",
       "      <th>419</th>\n",
       "      <td>420</td>\n",
       "      <td>Vehículo trabajo</td>\n",
       "      <td>None</td>\n",
       "      <td>None</td>\n",
       "    </tr>\n",
       "    <tr>\n",
       "      <th>420</th>\n",
       "      <td>421</td>\n",
       "      <td>1. Sí</td>\n",
       "      <td>None</td>\n",
       "      <td>None</td>\n",
       "    </tr>\n",
       "    <tr>\n",
       "      <th>421</th>\n",
       "      <td>422</td>\n",
       "      <td>2. No</td>\n",
       "      <td>None</td>\n",
       "      <td>None</td>\n",
       "    </tr>\n",
       "    <tr>\n",
       "      <th>422</th>\n",
       "      <td>423</td>\n",
       "      <td>None</td>\n",
       "      <td>None</td>\n",
       "      <td>None</td>\n",
       "    </tr>\n",
       "  </tbody>\n",
       "</table>\n",
       "<p>423 rows × 4 columns</p>\n",
       "</div>"
      ],
      "text/plain": [
       "      Id                Campo1 Campo2 Campo3\n",
       "0      1         Modo Agregado   None   None\n",
       "1      2            1.Caminata   None   None\n",
       "2      3         2.No Caminata   None   None\n",
       "3      4  3.Transporte Privado   None   None\n",
       "4      5  4.Transporte Público   None   None\n",
       "..   ...                   ...    ...    ...\n",
       "418  419                 2. No   None   None\n",
       "419  420      Vehículo trabajo   None   None\n",
       "420  421                 1. Sí   None   None\n",
       "421  422                 2. No   None   None\n",
       "422  423                  None   None   None\n",
       "\n",
       "[423 rows x 4 columns]"
      ]
     },
     "metadata": {},
     "output_type": "display_data"
    }
   ],
   "source": [
    "import pandas as pd\n",
    "import pyodbc\n",
    "\n",
    "conn = pyodbc.connect(conn_str)\n",
    "table_name = 'Diccionario'\n",
    "# Ejemplo cargando tabla en DataFrame\n",
    "df = pd.read_sql(f\"SELECT * FROM [{table_name}]\", conn)\n",
    "display(df)\n",
    "df.to_excel('diccionario.xlsx', index=False)\n",
    "\n",
    "conn.close()\n"
   ]
  }
 ],
 "metadata": {
  "kernelspec": {
   "display_name": ".venv",
   "language": "python",
   "name": "python3"
  },
  "language_info": {
   "codemirror_mode": {
    "name": "ipython",
    "version": 3
   },
   "file_extension": ".py",
   "mimetype": "text/x-python",
   "name": "python",
   "nbconvert_exporter": "python",
   "pygments_lexer": "ipython3",
   "version": "3.13.1"
  }
 },
 "nbformat": 4,
 "nbformat_minor": 5
}
