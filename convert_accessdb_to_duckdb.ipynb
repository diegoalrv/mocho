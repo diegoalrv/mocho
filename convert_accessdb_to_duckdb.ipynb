{
 "cells": [
  {
   "cell_type": "code",
   "execution_count": 1,
   "id": "4be661a5",
   "metadata": {},
   "outputs": [
    {
     "name": "stdout",
     "output_type": "stream",
     "text": [
      "Procesando tabla: Diccionario\n",
      "Procesando tabla: Estrato\n",
      "Procesando tabla: FactorExp_Hogar\n",
      "Procesando tabla: FactorExp_Persona\n",
      "Procesando tabla: Histograma15\n",
      "Procesando tabla: HOGAR\n",
      "Procesando tabla: IngresoHogar\n",
      "Procesando tabla: IngresoMod_Persona\n",
      "Procesando tabla: Macrozona\n",
      "Procesando tabla: ModoAgregado\n",
      "Procesando tabla: ModoInforme\n",
      "Procesando tabla: Periodo\n",
      "Procesando tabla: PERSONA\n",
      "Procesando tabla: Proposito\n",
      "Procesando tabla: RangoTMH\n",
      "Procesando tabla: Tipo Asiento\n",
      "Procesando tabla: TramoIngreso\n",
      "Procesando tabla: VIAJES_FDS\n",
      "Procesando tabla: VIAJES_LAB\n",
      "Procesando tabla: XAuto_Chofer\n",
      "Procesando tabla: XHijos\n",
      "Procesando tabla: XHogar_NViaje\n",
      "Procesando tabla: XIngresoPersona\n",
      "Procesando tabla: XtiempoMedio\n",
      "Procesando tabla: XViajes_Adulto\n",
      "Procesando tabla: XViajes_Infantes\n",
      "Procesando tabla: Zona\n",
      "Migración completa a DuckDB\n"
     ]
    }
   ],
   "source": [
    "import pyodbc\n",
    "import duckdb\n",
    "import pandas as pd\n",
    "import warnings\n",
    "# Apaga los todos los warnings\n",
    "warnings.filterwarnings(\"ignore\")\n",
    "\n",
    "# Ruta a Access\n",
    "db_file = './data/07CLBB_EOD_del_GRAN_CCP.accdb'\n",
    "conn_str = (\n",
    "    r'Driver={Microsoft Access Driver (*.mdb, *.accdb)};'\n",
    "    rf'DBQ={db_file};'\n",
    ")\n",
    "\n",
    "# Conectar a Access\n",
    "conn_access = pyodbc.connect(conn_str)\n",
    "cursor = conn_access.cursor()\n",
    "\n",
    "# Listar tablas en Access\n",
    "tables = [row.table_name for row in cursor.tables(tableType='TABLE')]\n",
    "\n",
    "# Ruta a DuckDB\n",
    "duckdb_file = './data/eod.duckdb'\n",
    "\n",
    "# Conectar o crear base DuckDB\n",
    "conn_duckdb = duckdb.connect(duckdb_file)\n",
    "\n",
    "for access_table in tables:\n",
    "    print(f\"Procesando tabla: {access_table}\")\n",
    "    # Leer tabla Access a DataFrame\n",
    "    df = pd.read_sql(f\"SELECT * FROM [{access_table}]\", conn_access)\n",
    "\n",
    "    duckdb_table = access_table.replace(' ', '_').replace('-', '_').lower()\n",
    "\n",
    "    # Escribir en DuckDB (crea tabla o reemplaza)\n",
    "    conn_duckdb.execute(f\"DROP TABLE IF EXISTS {duckdb_table}\")\n",
    "    conn_duckdb.execute(f\"CREATE TABLE {duckdb_table} AS SELECT * FROM df\")\n",
    "\n",
    "cursor.close()\n",
    "conn_access.close()\n",
    "conn_duckdb.close()\n",
    "\n",
    "print(\"Migración completa a DuckDB\")"
   ]
  }
 ],
 "metadata": {
  "kernelspec": {
   "display_name": ".venv",
   "language": "python",
   "name": "python3"
  },
  "language_info": {
   "codemirror_mode": {
    "name": "ipython",
    "version": 3
   },
   "file_extension": ".py",
   "mimetype": "text/x-python",
   "name": "python",
   "nbconvert_exporter": "python",
   "pygments_lexer": "ipython3",
   "version": "3.13.1"
  }
 },
 "nbformat": 4,
 "nbformat_minor": 5
}
